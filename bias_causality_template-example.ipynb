{
 "cells": [
  {
   "cell_type": "markdown",
   "metadata": {
    "application/vnd.databricks.v1+cell": {
     "inputWidgets": {},
     "nuid": "1a196633-d072-4e0b-a4f7-d550c7228ff9",
     "showTitle": false,
     "title": ""
    }
   },
   "source": [
    "*** \n",
    "# Bias Causality template notebook\n",
    "\n",
    "**+++ Clone the notebook before editing. +++**\n",
    "\n",
    "Template notebook for estimating the causal effect of a system on bias against some protected characteristic; e.g. how much is a recommender responsible for displaying a disproportionate amount of items of category A, and too few of category B (protected characteristic).\n",
    "\n",
    "**Inputs:**\n",
    "* historical data (e.g. individual requests to the system) containing:\n",
    "  * treatment (e.g. whether the recommender was used to respond to the request)\n",
    "  * outcomes (e.g. whether the response was category A or category B)\n",
    "  * other factors that could be \"confounding\" the observed effect of the treatment to the outcome (e.g. the country the request was sent from)\n",
    "* a graphical model of the causality structure in the system (aka causal model); this should represent how treatment, outcome and confounding factors relate to each other from a causality point of view (see an example [here](http://www.dagitty.net/dags.html#))\n",
    "\n",
    "\n",
    "**Outputs:**\n",
    "* correlation analysis: \"are treatment and outcome correlated and if so by how much?\", or \"is there an observed bias in the system?\" \n",
    "* causal analysis, i.e. \"does the treatment directly cause the outcome, all other factors being equal?\", or \"does the system directly cause the observed bias?\" \n",
    "\n",
    "\n",
    "**Requirements:**\n",
    "* Cluster creation rights (this needs a custom cluster)\n",
    "* Access to instance profile \"mount-recs-ip\"\n",
    "* Python 3.7+\n",
    "* Python libraries: \n",
    "  * numpy>=1.20.2\n",
    "  * pandas>=1.1.5\n",
    "  * scikit-learn\n",
    "  * dowhy https://github.com/microsoft/dowhy\n",
    "\n",
    "**How to guide:**\n",
    "1. Clone the notebook;\n",
    "1. Attach to custom cluster with appropriate instance profile and libraries installed (see \"Requirements\"); a single-node cluster is recommended as computations are not parallelised (a 'm4.2xlarge' is enough for a 200k rows dataset);\n",
    "1. Fill the notebook inputs in the \"Input\" section below:\n",
    "  * \"Causal model (dot or dagitty format)\": string representation of causal model; can be either in dot format or copied from dagitty\n",
    "    * The model can be drawn on http://www.dagitty.net/dags.html: when you are done, simply copy the 'Model code' (right-hand side) into the value or paste to a file and pass the filename (see below);\n",
    "    * note: there is a 2048 character limit, if the string is longer, please save to s3 and pass the filename (see below)\n",
    "  * \"Causal model (filename)\" [alternative to the above]: s3 location of text file containing causal graphical model in either dot format or or copied from dagitty (there is no character limit);\n",
    "  * \"Path to data (S3)\": s3 location of the historical dataset, in parquet format; note: the causal inference model will take a long time to run with large (1M+ rows) datasets; \n",
    "  * \"Outcome name\": outcome column name in the historical dataset; note: the outcome column must be categorical, with one of the categories being the protected characteristic;\n",
    "  * \"Treatment name\": treatment column name in the historical dataset;\n",
    "  * \"Outcome protected characteristic\": name of the protected characteristic in the outcome;\n",
    "  * \"model_params\": parameters to pass to the causal model (json format); see dowhy documentation\n",
    "  * \"Random seed\"\n",
    "1. Run notebook;\n",
    "1. See results under \"Analysis\" below;"
   ]
  },
  {
   "cell_type": "code",
   "execution_count": null,
   "metadata": {
    "application/vnd.databricks.v1+cell": {
     "inputWidgets": {},
     "nuid": "ad4b8849-2792-43d9-bee8-b468832af27c",
     "showTitle": false,
     "title": ""
    }
   },
   "outputs": [
    {
     "data": {
      "text/html": [
       "<style scoped>\n",
       "  .ansiout {\n",
       "    display: block;\n",
       "    unicode-bidi: embed;\n",
       "    white-space: pre-wrap;\n",
       "    word-wrap: break-word;\n",
       "    word-break: break-all;\n",
       "    font-family: \"Source Code Pro\", \"Menlo\", monospace;;\n",
       "    font-size: 13px;\n",
       "    color: #555;\n",
       "    margin-left: 4px;\n",
       "    line-height: 19px;\n",
       "  }\n",
       "</style>\n",
       "<div class=\"ansiout\"></div>"
      ]
     },
     "metadata": {
      "application/vnd.databricks.v1+output": {
       "addedWidgets": {},
       "arguments": {},
       "data": "<div class=\"ansiout\"></div>",
       "datasetInfos": [],
       "metadata": {},
       "removedWidgets": [],
       "type": "html"
      }
     },
     "output_type": "display_data"
    }
   ],
   "source": [
    "import pyspark.sql.functions as F\n",
    "import json\n",
    "import pandas as pd\n",
    "import numpy as np\n",
    "from scipy.stats import chi2_contingency\n",
    "from dowhy import CausalModel\n",
    "import matplotlib.pyplot as plt\n",
    "import seaborn as sns\n",
    "import time\n",
    "import re\n",
    "import os"
   ]
  },
  {
   "cell_type": "code",
   "execution_count": null,
   "metadata": {
    "application/vnd.databricks.v1+cell": {
     "inputWidgets": {},
     "nuid": "9f972fa0-fbab-4259-a5be-c58c20c5dfce",
     "showTitle": false,
     "title": ""
    }
   },
   "outputs": [
    {
     "data": {
      "text/html": [
       "<style scoped>\n",
       "  .ansiout {\n",
       "    display: block;\n",
       "    unicode-bidi: embed;\n",
       "    white-space: pre-wrap;\n",
       "    word-wrap: break-word;\n",
       "    word-break: break-all;\n",
       "    font-family: \"Source Code Pro\", \"Menlo\", monospace;;\n",
       "    font-size: 13px;\n",
       "    color: #555;\n",
       "    margin-left: 4px;\n",
       "    line-height: 19px;\n",
       "  }\n",
       "</style>\n",
       "<div class=\"ansiout\"></div>"
      ]
     },
     "metadata": {
      "application/vnd.databricks.v1+output": {
       "addedWidgets": {},
       "arguments": {},
       "data": "<div class=\"ansiout\"></div>",
       "datasetInfos": [],
       "metadata": {},
       "removedWidgets": [],
       "type": "html"
      }
     },
     "output_type": "display_data"
    }
   ],
   "source": [
    "sns.set()"
   ]
  },
  {
   "cell_type": "code",
   "execution_count": null,
   "metadata": {
    "application/vnd.databricks.v1+cell": {
     "inputWidgets": {},
     "nuid": "653aa73c-04f9-4cf5-8330-36a786a2ef3d",
     "showTitle": false,
     "title": ""
    }
   },
   "outputs": [
    {
     "data": {
      "text/html": [
       "<style scoped>\n",
       "  .ansiout {\n",
       "    display: block;\n",
       "    unicode-bidi: embed;\n",
       "    white-space: pre-wrap;\n",
       "    word-wrap: break-word;\n",
       "    word-break: break-all;\n",
       "    font-family: \"Source Code Pro\", \"Menlo\", monospace;;\n",
       "    font-size: 13px;\n",
       "    color: #555;\n",
       "    margin-left: 4px;\n",
       "    line-height: 19px;\n",
       "  }\n",
       "</style>\n",
       "<div class=\"ansiout\"></div>"
      ]
     },
     "metadata": {
      "application/vnd.databricks.v1+output": {
       "addedWidgets": {},
       "arguments": {},
       "data": "<div class=\"ansiout\"></div>",
       "datasetInfos": [],
       "metadata": {},
       "removedWidgets": [],
       "type": "html"
      }
     },
     "output_type": "display_data"
    }
   ],
   "source": [
    "# This prevents sklearn from printing a lot of warnings (copied from dowhy example notebooks)\n",
    "import warnings\n",
    "from sklearn.exceptions import DataConversionWarning, ConvergenceWarning\n",
    "warnings.filterwarnings(action='ignore', category=DataConversionWarning)\n",
    "warnings.filterwarnings(action='ignore', category=ConvergenceWarning)\n",
    "warnings.filterwarnings(action='ignore', category=UserWarning)"
   ]
  },
  {
   "cell_type": "code",
   "execution_count": null,
   "metadata": {
    "application/vnd.databricks.v1+cell": {
     "inputWidgets": {},
     "nuid": "b9e91291-bdc0-4121-8f65-06662d2e932f",
     "showTitle": false,
     "title": ""
    }
   },
   "outputs": [
    {
     "data": {
      "text/html": [
       "<style scoped>\n",
       "  .ansiout {\n",
       "    display: block;\n",
       "    unicode-bidi: embed;\n",
       "    white-space: pre-wrap;\n",
       "    word-wrap: break-word;\n",
       "    word-break: break-all;\n",
       "    font-family: \"Source Code Pro\", \"Menlo\", monospace;;\n",
       "    font-size: 13px;\n",
       "    color: #555;\n",
       "    margin-left: 4px;\n",
       "    line-height: 19px;\n",
       "  }\n",
       "</style>\n",
       "<div class=\"ansiout\"></div>"
      ]
     },
     "metadata": {
      "application/vnd.databricks.v1+output": {
       "addedWidgets": {},
       "arguments": {},
       "data": "<div class=\"ansiout\"></div>",
       "datasetInfos": [],
       "metadata": {},
       "removedWidgets": [],
       "type": "html"
      }
     },
     "output_type": "display_data"
    }
   ],
   "source": [
    "DATAFRAME_ROW_LIMIT = 10**6"
   ]
  },
  {
   "cell_type": "code",
   "execution_count": null,
   "metadata": {
    "application/vnd.databricks.v1+cell": {
     "inputWidgets": {},
     "nuid": "39407cd2-e25e-4f5e-a25e-693916cb6861",
     "showTitle": false,
     "title": ""
    }
   },
   "outputs": [
    {
     "data": {
      "text/html": [
       "<style scoped>\n",
       "  .ansiout {\n",
       "    display: block;\n",
       "    unicode-bidi: embed;\n",
       "    white-space: pre-wrap;\n",
       "    word-wrap: break-word;\n",
       "    word-break: break-all;\n",
       "    font-family: \"Source Code Pro\", \"Menlo\", monospace;;\n",
       "    font-size: 13px;\n",
       "    color: #555;\n",
       "    margin-left: 4px;\n",
       "    line-height: 19px;\n",
       "  }\n",
       "</style>\n",
       "<div class=\"ansiout\"></div>"
      ]
     },
     "metadata": {
      "application/vnd.databricks.v1+output": {
       "addedWidgets": {},
       "arguments": {},
       "data": "<div class=\"ansiout\"></div>",
       "datasetInfos": [],
       "metadata": {},
       "removedWidgets": [],
       "type": "html"
      }
     },
     "output_type": "display_data"
    }
   ],
   "source": [
    "def load_causal_model(causal_model_filename=None, causal_model=None):\n",
    "    cm_fname = causal_model_filename\n",
    "    cm_str = causal_model\n",
    "    if cm_fname != \"\":\n",
    "        cm_str = load_causal_model_from_s3(cm_fname)\n",
    "        cm = convert_dagitty_to_dot(cm_str)\n",
    "    elif cm_str != \"\":\n",
    "        cm = convert_dagitty_to_dot(cm_str)\n",
    "    else:\n",
    "        raise Exception(\"Please provide a causal model or causal model file location\")\n",
    "    return cm\n",
    "\n",
    "\n",
    "def load_causal_model_from_s3(s3_loc):\n",
    "    tmpfile = f\"/local_disk0/tmp/{s3_loc.split('/')[-1]}\"\n",
    "    dbutils.fs.cp(s3_loc, tmpfile)\n",
    "    with open(f'/dbfs/{tmpfile}', 'r') as foo:\n",
    "        out = foo.read()\n",
    "    os.remove(f'/dbfs/{tmpfile}')\n",
    "    return out\n",
    "\n",
    "\n",
    "def convert_dagitty_to_dot(d):\n",
    "    d1 = re.sub(r'(^|([\\{\\}]))\\n*', '\\\\1', d)  # remove newlines where they shouldn't be \n",
    "    d1 = re.sub(r'\\n', ';', d1)  # replace remaining newlines with ;\n",
    "    d1 = re.sub(r'\\;{2,}', ';', d1)  # clean up multiple ;\n",
    "    d1 = d1.replace('dag', 'digraph')\n",
    "    return d1"
   ]
  },
  {
   "cell_type": "markdown",
   "metadata": {
    "application/vnd.databricks.v1+cell": {
     "inputWidgets": {},
     "nuid": "b0a5d82f-d3ac-4f04-865a-d9cf0c713672",
     "showTitle": false,
     "title": ""
    }
   },
   "source": [
    "# Input"
   ]
  },
  {
   "cell_type": "code",
   "execution_count": null,
   "metadata": {},
   "outputs": [],
   "source": [
    "seed = 123\n",
    "data_filename = \"s3://.../bogus-causality-dataset-01/\"\n",
    "causal_model_filename = \"s3://.../bogus-causality-model-00.dot\"\n",
    "treatment_name = \"used_recommender\"\n",
    "outcome_name = \"team\"\n",
    "outcome_pc_name = \"blues\"\n",
    "model_params = {\"num_strata\":10, \"clipping_threshold\":10}"
   ]
  },
  {
   "cell_type": "code",
   "execution_count": null,
   "metadata": {},
   "outputs": [],
   "source": [
    "causal_model_graph = load_causal_model(causal_model_filename=causal_model_filename, causal_model=None)"
   ]
  },
  {
   "cell_type": "code",
   "execution_count": null,
   "metadata": {
    "application/vnd.databricks.v1+cell": {
     "inputWidgets": {},
     "nuid": "fed06d3c-7b0c-4f4e-9639-baae21ed169c",
     "showTitle": false,
     "title": ""
    }
   },
   "outputs": [
    {
     "data": {
      "text/html": [
       "<style scoped>\n",
       "  .ansiout {\n",
       "    display: block;\n",
       "    unicode-bidi: embed;\n",
       "    white-space: pre-wrap;\n",
       "    word-wrap: break-word;\n",
       "    word-break: break-all;\n",
       "    font-family: \"Source Code Pro\", \"Menlo\", monospace;;\n",
       "    font-size: 13px;\n",
       "    color: #555;\n",
       "    margin-left: 4px;\n",
       "    line-height: 19px;\n",
       "  }\n",
       "</style>\n",
       "<div class=\"ansiout\">random seed: 123\n",
       "load data from: s3://com-elsevier-recs-dev-experiments/SDPR-5187/bogus-causality-dataset-01/\n",
       "causal model graph dot format digraph {U;used_recommender -&gt; team_blues;U -&gt; used_recommender;U -&gt; team_blues;country -&gt; used_recommender;country -&gt; team_blues;country -&gt; favourite_animal;}\n",
       "treatment column name: used_recommender\n",
       "outcome column name: team\n",
       "outcome protected characteristic name: blues\n",
       "dowhy model parameters: {&#39;num_strata&#39;: 10, &#39;clipping_threshold&#39;: 10}\n",
       "</div>"
      ]
     },
     "metadata": {
      "application/vnd.databricks.v1+output": {
       "addedWidgets": {},
       "arguments": {},
       "data": "<div class=\"ansiout\">random seed: 123\nload data from: s3://com-elsevier-recs-dev-experiments/SDPR-5187/bogus-causality-dataset-01/\ncausal model graph dot format digraph {U;used_recommender -&gt; team_blues;U -&gt; used_recommender;U -&gt; team_blues;country -&gt; used_recommender;country -&gt; team_blues;country -&gt; favourite_animal;}\ntreatment column name: used_recommender\noutcome column name: team\noutcome protected characteristic name: blues\ndowhy model parameters: {&#39;num_strata&#39;: 10, &#39;clipping_threshold&#39;: 10}\n</div>",
       "datasetInfos": [],
       "metadata": {},
       "removedWidgets": [],
       "type": "html"
      }
     },
     "output_type": "display_data"
    }
   ],
   "source": [
    "print(\"random seed:\", seed)\n",
    "print(\"load data from:\", data_filename)\n",
    "print(\"causal model graph dot format\", causal_model_graph)\n",
    "print(\"treatment column name:\", treatment_name)\n",
    "print(\"outcome column name:\", outcome_name)\n",
    "print(\"outcome protected characteristic name:\", outcome_pc_name)\n",
    "print(\"dowhy model parameters:\", model_params)"
   ]
  },
  {
   "cell_type": "markdown",
   "metadata": {
    "application/vnd.databricks.v1+cell": {
     "inputWidgets": {},
     "nuid": "a0dd9db6-0df5-47d3-a209-b29bf78ebb05",
     "showTitle": false,
     "title": ""
    }
   },
   "source": [
    "# Data preparation"
   ]
  },
  {
   "cell_type": "markdown",
   "metadata": {
    "application/vnd.databricks.v1+cell": {
     "inputWidgets": {},
     "nuid": "a20d59bf-69f6-4a1b-93ab-f3c5121e31f7",
     "showTitle": false,
     "title": ""
    }
   },
   "source": [
    "### Load"
   ]
  },
  {
   "cell_type": "code",
   "execution_count": null,
   "metadata": {
    "application/vnd.databricks.v1+cell": {
     "inputWidgets": {},
     "nuid": "bc445504-7f76-4584-853f-0aaa8b7d9d16",
     "showTitle": false,
     "title": ""
    }
   },
   "outputs": [
    {
     "data": {
      "text/html": [
       "<style scoped>\n",
       "  .ansiout {\n",
       "    display: block;\n",
       "    unicode-bidi: embed;\n",
       "    white-space: pre-wrap;\n",
       "    word-wrap: break-word;\n",
       "    word-break: break-all;\n",
       "    font-family: \"Source Code Pro\", \"Menlo\", monospace;;\n",
       "    font-size: 13px;\n",
       "    color: #555;\n",
       "    margin-left: 4px;\n",
       "    line-height: 19px;\n",
       "  }\n",
       "</style>\n",
       "<div class=\"ansiout\"></div>"
      ]
     },
     "metadata": {
      "application/vnd.databricks.v1+output": {
       "addedWidgets": {},
       "arguments": {},
       "data": "<div class=\"ansiout\"></div>",
       "datasetInfos": [],
       "metadata": {},
       "removedWidgets": [],
       "type": "html"
      }
     },
     "output_type": "display_data"
    }
   ],
   "source": [
    "df_main = spark.read.parquet(data_filename)"
   ]
  },
  {
   "cell_type": "markdown",
   "metadata": {
    "application/vnd.databricks.v1+cell": {
     "inputWidgets": {},
     "nuid": "aabda8bc-bff2-4f04-86b7-a90404b400ee",
     "showTitle": false,
     "title": ""
    }
   },
   "source": [
    "### Validation"
   ]
  },
  {
   "cell_type": "code",
   "execution_count": null,
   "metadata": {
    "application/vnd.databricks.v1+cell": {
     "inputWidgets": {},
     "nuid": "a4f3dbfa-66c3-4b9c-830f-e4d8ee0fb74d",
     "showTitle": false,
     "title": ""
    }
   },
   "outputs": [
    {
     "data": {
      "text/html": [
       "<style scoped>\n",
       "  .ansiout {\n",
       "    display: block;\n",
       "    unicode-bidi: embed;\n",
       "    white-space: pre-wrap;\n",
       "    word-wrap: break-word;\n",
       "    word-break: break-all;\n",
       "    font-family: \"Source Code Pro\", \"Menlo\", monospace;;\n",
       "    font-size: 13px;\n",
       "    color: #555;\n",
       "    margin-left: 4px;\n",
       "    line-height: 19px;\n",
       "  }\n",
       "</style>\n",
       "<div class=\"ansiout\"></div>"
      ]
     },
     "metadata": {
      "application/vnd.databricks.v1+output": {
       "addedWidgets": {},
       "arguments": {},
       "data": "<div class=\"ansiout\"></div>",
       "datasetInfos": [],
       "metadata": {},
       "removedWidgets": [],
       "type": "html"
      }
     },
     "output_type": "display_data"
    }
   ],
   "source": [
    "def validate_dataset(df, treatment_name, outcome_name):\n",
    "    # validate counts\n",
    "    counts = df.selectExpr(\"count(*) as n_rows\", f\"count({treatment_name}) as n_treatment\", f\"count({outcome_name}) as n_outcome\").take(1)[0]\n",
    "    n_rows, n_treatment, n_outcome = counts[\"n_rows\"], counts[\"n_treatment\"], counts[\"n_outcome\"]\n",
    "    assert n_rows == n_treatment == n_outcome, f\"Counts do not match (there might be nulls): n. rows: {n_rows}, n. treatment (not-null): {n_treatment}, n. outcome (not-null): {n_outcome}\"\n",
    "    # validate unique counts\n",
    "    n_unique_treatment = df.select(treatment_name).dropDuplicates().count()\n",
    "    assert n_unique_treatment >= 2, \"treatment needs at least two distinct values\"\n",
    "    n_unique_outcome = df.select(outcome_name).dropDuplicates().count()\n",
    "    assert n_unique_outcome >= 2, \"outcome needs at least two distinct values\"\n",
    "    # validate number of columns\n",
    "    n_covariates = len(df.drop(outcome_name, treatment_name).columns)\n",
    "    assert n_covariates > 0, \"data needs at least one covariate column\"\n",
    "    # validate data types\n",
    "    dtypes = dict(df.dtypes)\n",
    "    treatment_type = dtypes[treatment_name]\n",
    "    assert treatment_type in ('boolean', 'string', 'int'), f\"treatment column '{treatment_name}' must be of types boolean, string or int; found '{treatment_type}' instead.\"\n",
    "    outcome_type = dtypes[outcome_name]\n",
    "    assert outcome_type in ('boolean', 'string', 'int'), f\"outcome column '{outcome_name}' must be of types boolean, string or int; found '{outcome_type}' instead.\""
   ]
  },
  {
   "cell_type": "code",
   "execution_count": null,
   "metadata": {
    "application/vnd.databricks.v1+cell": {
     "inputWidgets": {},
     "nuid": "e7873a3a-75df-4458-a454-326c91ea7bef",
     "showTitle": false,
     "title": ""
    }
   },
   "outputs": [
    {
     "data": {
      "text/html": [
       "<style scoped>\n",
       "  .ansiout {\n",
       "    display: block;\n",
       "    unicode-bidi: embed;\n",
       "    white-space: pre-wrap;\n",
       "    word-wrap: break-word;\n",
       "    word-break: break-all;\n",
       "    font-family: \"Source Code Pro\", \"Menlo\", monospace;;\n",
       "    font-size: 13px;\n",
       "    color: #555;\n",
       "    margin-left: 4px;\n",
       "    line-height: 19px;\n",
       "  }\n",
       "</style>\n",
       "<div class=\"ansiout\"></div>"
      ]
     },
     "metadata": {
      "application/vnd.databricks.v1+output": {
       "addedWidgets": {},
       "arguments": {},
       "data": "<div class=\"ansiout\"></div>",
       "datasetInfos": [],
       "metadata": {},
       "removedWidgets": [],
       "type": "html"
      }
     },
     "output_type": "display_data"
    }
   ],
   "source": [
    "validate_dataset(df_main, treatment_name, outcome_name)"
   ]
  },
  {
   "cell_type": "markdown",
   "metadata": {
    "application/vnd.databricks.v1+cell": {
     "inputWidgets": {},
     "nuid": "bf003a74-1c0c-428a-92fd-bcb22511df2c",
     "showTitle": false,
     "title": ""
    }
   },
   "source": [
    "### Transform"
   ]
  },
  {
   "cell_type": "code",
   "execution_count": null,
   "metadata": {
    "application/vnd.databricks.v1+cell": {
     "inputWidgets": {},
     "nuid": "9c8692aa-bf7d-4e63-bac2-4265b92cb861",
     "showTitle": false,
     "title": ""
    }
   },
   "outputs": [
    {
     "data": {
      "text/html": [
       "<style scoped>\n",
       "  .ansiout {\n",
       "    display: block;\n",
       "    unicode-bidi: embed;\n",
       "    white-space: pre-wrap;\n",
       "    word-wrap: break-word;\n",
       "    word-break: break-all;\n",
       "    font-family: \"Source Code Pro\", \"Menlo\", monospace;;\n",
       "    font-size: 13px;\n",
       "    color: #555;\n",
       "    margin-left: 4px;\n",
       "    line-height: 19px;\n",
       "  }\n",
       "</style>\n",
       "<div class=\"ansiout\"></div>"
      ]
     },
     "metadata": {
      "application/vnd.databricks.v1+output": {
       "addedWidgets": {},
       "arguments": {},
       "data": "<div class=\"ansiout\"></div>",
       "datasetInfos": [],
       "metadata": {},
       "removedWidgets": [],
       "type": "html"
      }
     },
     "output_type": "display_data"
    }
   ],
   "source": [
    "def transform_and_export(df, outcome_name, outcome_pc_name, dataframe_row_limit=10**6):\n",
    "    \n",
    "    # encode outcome variable\n",
    "    outcome_name_bin, outcome_name_bin_not = _make_outcome_name_bin(outcome_name, outcome_pc_name)\n",
    "    df1 = df.withColumn(outcome_name_bin, F.when(F.col(outcome_name) == outcome_pc_name, 1).otherwise(0))\\\n",
    "        .drop(outcome_name)\n",
    "    \n",
    "    # transform to pandas\n",
    "    if df1.count() > dataframe_row_limit:\n",
    "        raise Exception(f\"Data might be too large to fit in memory as a Pandas dataframe ({n_rows} rows). To proceed anyway, increase the value of `DATAFRAME_ROW_LIMIT` above.\")\n",
    "    else:\n",
    "        df1_pd = df1.toPandas()\n",
    "        \n",
    "    return df1_pd\n",
    "\n",
    "\n",
    "def _make_outcome_name_bin(outcome_name, outcome_pc_name):\n",
    "    outcome_name_bin = f\"{outcome_name}_{outcome_pc_name}\"\n",
    "    outcome_name_bin_not = f\"{outcome_name}_not_{outcome_pc_name}\"\n",
    "    return outcome_name_bin, outcome_name_bin_not\n",
    "\n",
    "\n",
    "df_main_pd = transform_and_export(df_main, outcome_name, outcome_pc_name, dataframe_row_limit=DATAFRAME_ROW_LIMIT)"
   ]
  },
  {
   "cell_type": "markdown",
   "metadata": {
    "application/vnd.databricks.v1+cell": {
     "inputWidgets": {},
     "nuid": "fedbb334-d273-45e3-af11-9804ef7849fb",
     "showTitle": false,
     "title": ""
    }
   },
   "source": [
    "# Analysis"
   ]
  },
  {
   "cell_type": "markdown",
   "metadata": {
    "application/vnd.databricks.v1+cell": {
     "inputWidgets": {},
     "nuid": "a1758a16-847d-43d2-b810-307514a90f1f",
     "showTitle": false,
     "title": ""
    }
   },
   "source": [
    "### Plain correlation between treatment and outcome"
   ]
  },
  {
   "cell_type": "code",
   "execution_count": null,
   "metadata": {
    "application/vnd.databricks.v1+cell": {
     "inputWidgets": {},
     "nuid": "ec448b58-4787-408f-9c39-e3daa7e416d6",
     "showTitle": false,
     "title": ""
    }
   },
   "outputs": [
    {
     "data": {
      "text/html": [
       "<style scoped>\n",
       "  .ansiout {\n",
       "    display: block;\n",
       "    unicode-bidi: embed;\n",
       "    white-space: pre-wrap;\n",
       "    word-wrap: break-word;\n",
       "    word-break: break-all;\n",
       "    font-family: \"Source Code Pro\", \"Menlo\", monospace;;\n",
       "    font-size: 13px;\n",
       "    color: #555;\n",
       "    margin-left: 4px;\n",
       "    line-height: 19px;\n",
       "  }\n",
       "</style>\n",
       "<div class=\"ansiout\">Counts\n",
       "</div>"
      ]
     },
     "metadata": {
      "application/vnd.databricks.v1+output": {
       "addedWidgets": {},
       "arguments": {},
       "data": "<div class=\"ansiout\">Counts\n</div>",
       "datasetInfos": [],
       "metadata": {},
       "removedWidgets": [],
       "type": "html"
      }
     },
     "output_type": "display_data"
    },
    {
     "data": {
      "text/html": [
       "<style scoped>\n",
       "  .table-result-container {\n",
       "    max-height: 300px;\n",
       "    overflow: auto;\n",
       "  }\n",
       "  table, th, td {\n",
       "    border: 1px solid black;\n",
       "    border-collapse: collapse;\n",
       "  }\n",
       "  th, td {\n",
       "    padding: 5px;\n",
       "  }\n",
       "  th {\n",
       "    text-align: left;\n",
       "  }\n",
       "</style><div class='table-result-container'><table class='table-result'><thead style='background-color: white'><tr><th>used_recommender</th><th>team_blues</th><th>team_not_blues</th></tr></thead><tbody><tr><td>false</td><td>257</td><td>400</td></tr><tr><td>true</td><td>208</td><td>135</td></tr></tbody></table></div>"
      ]
     },
     "metadata": {
      "application/vnd.databricks.v1+output": {
       "addedWidgets": {},
       "aggData": [],
       "aggError": "",
       "aggOverflow": false,
       "aggSchema": [],
       "aggSeriesLimitReached": false,
       "aggType": "",
       "arguments": {},
       "columnCustomDisplayInfos": {},
       "data": [
        [
         false,
         257,
         400
        ],
        [
         true,
         208,
         135
        ]
       ],
       "datasetInfos": [],
       "dbfsResultPath": null,
       "isJsonSchema": true,
       "metadata": {},
       "overflow": false,
       "plotOptions": {
        "customPlotOptions": {},
        "displayType": "table",
        "pivotAggregation": null,
        "pivotColumns": null,
        "xColumns": null,
        "yColumns": null
       },
       "removedWidgets": [],
       "schema": [
        {
         "metadata": "{}",
         "name": "used_recommender",
         "type": "\"boolean\""
        },
        {
         "metadata": "{}",
         "name": "team_blues",
         "type": "\"long\""
        },
        {
         "metadata": "{}",
         "name": "team_not_blues",
         "type": "\"long\""
        }
       ],
       "type": "table"
      }
     },
     "output_type": "display_data"
    },
    {
     "data": {
      "text/html": [
       "<style scoped>\n",
       "  .ansiout {\n",
       "    display: block;\n",
       "    unicode-bidi: embed;\n",
       "    white-space: pre-wrap;\n",
       "    word-wrap: break-word;\n",
       "    word-break: break-all;\n",
       "    font-family: \"Source Code Pro\", \"Menlo\", monospace;;\n",
       "    font-size: 13px;\n",
       "    color: #555;\n",
       "    margin-left: 4px;\n",
       "    line-height: 19px;\n",
       "  }\n",
       "</style>\n",
       "<div class=\"ansiout\">\n",
       "Fractions\n",
       "</div>"
      ]
     },
     "metadata": {
      "application/vnd.databricks.v1+output": {
       "addedWidgets": {},
       "arguments": {},
       "data": "<div class=\"ansiout\">\nFractions\n</div>",
       "datasetInfos": [],
       "metadata": {},
       "removedWidgets": [],
       "type": "html"
      }
     },
     "output_type": "display_data"
    },
    {
     "data": {
      "text/html": [
       "<style scoped>\n",
       "  .table-result-container {\n",
       "    max-height: 300px;\n",
       "    overflow: auto;\n",
       "  }\n",
       "  table, th, td {\n",
       "    border: 1px solid black;\n",
       "    border-collapse: collapse;\n",
       "  }\n",
       "  th, td {\n",
       "    padding: 5px;\n",
       "  }\n",
       "  th {\n",
       "    text-align: left;\n",
       "  }\n",
       "</style><div class='table-result-container'><table class='table-result'><thead style='background-color: white'><tr><th>used_recommender</th><th>team_blues</th><th>team_not_blues</th></tr></thead><tbody><tr><td>false</td><td>0.3911719939117199</td><td>0.60882800608828</td></tr><tr><td>true</td><td>0.6064139941690962</td><td>0.3935860058309038</td></tr></tbody></table></div>"
      ]
     },
     "metadata": {
      "application/vnd.databricks.v1+output": {
       "addedWidgets": {},
       "aggData": [],
       "aggError": "",
       "aggOverflow": false,
       "aggSchema": [],
       "aggSeriesLimitReached": false,
       "aggType": "",
       "arguments": {},
       "columnCustomDisplayInfos": {},
       "data": [
        [
         false,
         0.3911719939117199,
         0.60882800608828
        ],
        [
         true,
         0.6064139941690962,
         0.3935860058309038
        ]
       ],
       "datasetInfos": [],
       "dbfsResultPath": null,
       "isJsonSchema": true,
       "metadata": {},
       "overflow": false,
       "plotOptions": {
        "customPlotOptions": {},
        "displayType": "table",
        "pivotAggregation": null,
        "pivotColumns": null,
        "xColumns": null,
        "yColumns": null
       },
       "removedWidgets": [],
       "schema": [
        {
         "metadata": "{}",
         "name": "used_recommender",
         "type": "\"boolean\""
        },
        {
         "metadata": "{}",
         "name": "team_blues",
         "type": "\"double\""
        },
        {
         "metadata": "{}",
         "name": "team_not_blues",
         "type": "\"double\""
        }
       ],
       "type": "table"
      }
     },
     "output_type": "display_data"
    },
    {
     "data": {
      "text/html": [
       "<style scoped>\n",
       "  .ansiout {\n",
       "    display: block;\n",
       "    unicode-bidi: embed;\n",
       "    white-space: pre-wrap;\n",
       "    word-wrap: break-word;\n",
       "    word-break: break-all;\n",
       "    font-family: \"Source Code Pro\", \"Menlo\", monospace;;\n",
       "    font-size: 13px;\n",
       "    color: #555;\n",
       "    margin-left: 4px;\n",
       "    line-height: 19px;\n",
       "  }\n",
       "</style>\n",
       "<div class=\"ansiout\">\n",
       "Correlation test\n",
       "p-value: 1.4418249807447368e-10 ***\n",
       "\n",
       "Summary\n",
       "The observed average effect of treatment &#39;used_recommender&#39; on protected characteristic &#39;team_blues&#39; is 0.2152.\n",
       "The effect is statistically significant at 95% level (p-value 1.4418e-10).\n",
       "</div>"
      ]
     },
     "metadata": {
      "application/vnd.databricks.v1+output": {
       "addedWidgets": {},
       "arguments": {},
       "data": "<div class=\"ansiout\">\nCorrelation test\np-value: 1.4418249807447368e-10 ***\n\nSummary\nThe observed average effect of treatment &#39;used_recommender&#39; on protected characteristic &#39;team_blues&#39; is 0.2152.\nThe effect is statistically significant at 95% level (p-value 1.4418e-10).\n</div>",
       "datasetInfos": [],
       "metadata": {},
       "removedWidgets": [],
       "type": "html"
      }
     },
     "output_type": "display_data"
    }
   ],
   "source": [
    "def correlation_analysis(df_main_pd, treatment_name, outcome_name, outcome_pc_name):\n",
    "    \n",
    "    outcome_name_bin, outcome_name_bin_not = _make_outcome_name_bin(outcome_name, outcome_pc_name)\n",
    "    \n",
    "    df_t_o_counts = df_main_pd[[treatment_name, outcome_name_bin]].replace({outcome_name_bin: {0:f\"{outcome_name}_not_{outcome_pc_name}\", 1:outcome_name_bin}}).value_counts().unstack(1)\n",
    "\n",
    "    print('Counts')\n",
    "    display(df_t_o_counts.reset_index())\n",
    "\n",
    "    print('\\nFractions')\n",
    "    df_t_o_p = (df_t_o_counts.T / df_t_o_counts.sum(1)).T\n",
    "    display(df_t_o_p.reset_index())\n",
    "\n",
    "    print('\\nCorrelation test')\n",
    "    tabl_ = df_t_o_counts.values\n",
    "    _, p, _, _ = chi2_contingency(tabl_)\n",
    "    sig = ('***') if p < .001 else ('**' if p < .01 else ('*' if p < .05 else ''))\n",
    "    print(f\"p-value: {p} {sig}\")\n",
    "    \n",
    "    summary = (\"\\nSummary\\n\"\n",
    "    f\"The observed average effect of treatment '{treatment_name}' on protected characteristic '{outcome_name_bin}' is {df_t_o_p.loc[True, outcome_name_bin] - df_t_o_p.loc[False, outcome_name_bin]:0.4f}.\\n\"\n",
    "    f\"The effect is {'not ' if sig=='' else ''}statistically significant at 95% level (p-value {p:0.5g}).\"\n",
    "    )\n",
    "    print(summary)\n",
    "    \n",
    "\n",
    "correlation_analysis(df_main_pd, treatment_name, outcome_name, outcome_pc_name)"
   ]
  },
  {
   "cell_type": "markdown",
   "metadata": {
    "application/vnd.databricks.v1+cell": {
     "inputWidgets": {},
     "nuid": "94edb8e2-247c-48d2-af6b-e02ef02873ac",
     "showTitle": false,
     "title": ""
    }
   },
   "source": [
    "### Causal inference"
   ]
  },
  {
   "cell_type": "markdown",
   "metadata": {
    "application/vnd.databricks.v1+cell": {
     "inputWidgets": {},
     "nuid": "45cfbdc1-5310-4509-a3f4-93bb1ddd3ab7",
     "showTitle": false,
     "title": ""
    }
   },
   "source": [
    "#### Estimate effect"
   ]
  },
  {
   "cell_type": "code",
   "execution_count": null,
   "metadata": {
    "application/vnd.databricks.v1+cell": {
     "inputWidgets": {},
     "nuid": "2ff78859-66e9-4841-886f-657c8cf0fd40",
     "showTitle": false,
     "title": ""
    }
   },
   "outputs": [
    {
     "data": {
      "text/html": [
       "<style scoped>\n",
       "  .ansiout {\n",
       "    display: block;\n",
       "    unicode-bidi: embed;\n",
       "    white-space: pre-wrap;\n",
       "    word-wrap: break-word;\n",
       "    word-break: break-all;\n",
       "    font-family: \"Source Code Pro\", \"Menlo\", monospace;;\n",
       "    font-size: 13px;\n",
       "    color: #555;\n",
       "    margin-left: 4px;\n",
       "    line-height: 19px;\n",
       "  }\n",
       "</style>\n",
       "<div class=\"ansiout\">Average Treatment Effect of &#39;used_recommender&#39; on protected characteristic &#39;team_blues&#39; is 0.209. Confidence interval at 95% level: (0.144, 0.269).\n",
       "This means that a unit change in &#39;used_recommender&#39; makes the probability of &#39;team_blues&#39; change by 0.209\n",
       "</div>"
      ]
     },
     "metadata": {
      "application/vnd.databricks.v1+output": {
       "addedWidgets": {},
       "arguments": {},
       "data": "<div class=\"ansiout\">Average Treatment Effect of &#39;used_recommender&#39; on protected characteristic &#39;team_blues&#39; is 0.209. Confidence interval at 95% level: (0.144, 0.269).\nThis means that a unit change in &#39;used_recommender&#39; makes the probability of &#39;team_blues&#39; change by 0.209\n</div>",
       "datasetInfos": [],
       "metadata": {},
       "removedWidgets": [],
       "type": "html"
      }
     },
     "output_type": "display_data"
    }
   ],
   "source": [
    "def causal_inference(df, treatment_name, outcome_name, outcome_pc_name, causal_model_graph, model_params):\n",
    "    outcome_name_bin, outcome_name_bin_not = _make_outcome_name_bin(outcome_name, outcome_pc_name)\n",
    "    \n",
    "    # Get model parameters\n",
    "    num_strata = model_params['num_strata'] or 100  # TODO: set based on data size\n",
    "    clipping_threshold = model_params['clipping_threshold'] or 20  # TODO: set based on data size\n",
    "    \n",
    "    # I. Create a causal model from the data and given graph.\n",
    "    model = CausalModel(\n",
    "        data=df,\n",
    "        treatment=treatment_name,\n",
    "        outcome=outcome_name_bin,\n",
    "        graph=causal_model_graph.replace('\\n', '').strip()\n",
    "    )\n",
    "    \n",
    "    # II Identify causal effect and return target estimands\n",
    "    identified_estimand = model.identify_effect(proceed_when_unidentifiable=True)\n",
    "    \n",
    "    # III.a Estimate the target estimand using a statistical method. Propensity score stratification.\n",
    "    estimate = model.estimate_effect(identified_estimand,\n",
    "                                     method_name=\"backdoor.propensity_score_stratification\",\n",
    "                                     target_units=\"ate\",\n",
    "                                     test_significance=False,\n",
    "                                     confidence_intervals='bootstrap',\n",
    "                                     method_params={\"num_strata\":num_strata, \"clipping_threshold\":clipping_threshold, \"num_simulations\":100})\n",
    "    \n",
    "    # Print results\n",
    "    ci_low, ci_hih = estimate.get_confidence_intervals(confidence_level=0.95, method='bootstrap')\n",
    "    is_sig_95 = np.sign(ci_low*ci_hih)==1.0\n",
    "    summary = f\"Average Treatment Effect of '{treatment_name}' on protected characteristic '{outcome_name_bin}' is {estimate.value:0.3f}. Confidence interval at 95% level: ({ci_low:0.3f}, {ci_hih:0.3f}).\\n\"\n",
    "    if is_sig_95:\n",
    "        summary += f\"This means that a unit change in '{treatment_name}' makes the probability of '{outcome_name_bin}' change by {estimate.value:0.3f}\"\n",
    "    else:\n",
    "        summary += f\"This is not statistically significant at at least the 95% level\"\n",
    "    print(summary)\n",
    "    \n",
    "    return model, identified_estimand, estimate\n",
    "\n",
    "\n",
    "model, identified_estimand, estimate = causal_inference(df_main_pd, treatment_name, outcome_name, outcome_pc_name, causal_model_graph, model_params)"
   ]
  },
  {
   "cell_type": "markdown",
   "metadata": {
    "application/vnd.databricks.v1+cell": {
     "inputWidgets": {},
     "nuid": "f917ec55-9f09-4aeb-828a-b19ad6e1b46a",
     "showTitle": false,
     "title": ""
    }
   },
   "source": [
    "#### Analysis\n",
    "\n",
    "Additional metrics on the causal inference model:\n",
    "* Distribution of propensity scores\n",
    "* Distribution of estimated effects\n",
    "* Propensity score estimation metrics (ROC curve, precision/recall, feature importance)\n",
    "* Strata element counts and treatment effects in strata"
   ]
  },
  {
   "cell_type": "code",
   "execution_count": null,
   "metadata": {
    "application/vnd.databricks.v1+cell": {
     "inputWidgets": {},
     "nuid": "01f2a6a2-fa4b-4a30-adb7-924c9263fc59",
     "showTitle": false,
     "title": ""
    }
   },
   "outputs": [
    {
     "data": {
      "text/html": [
       "<style scoped>\n",
       "  .ansiout {\n",
       "    display: block;\n",
       "    unicode-bidi: embed;\n",
       "    white-space: pre-wrap;\n",
       "    word-wrap: break-word;\n",
       "    word-break: break-all;\n",
       "    font-family: \"Source Code Pro\", \"Menlo\", monospace;;\n",
       "    font-size: 13px;\n",
       "    color: #555;\n",
       "    margin-left: 4px;\n",
       "    line-height: 19px;\n",
       "  }\n",
       "</style>\n",
       "<div class=\"ansiout\"></div>"
      ]
     },
     "metadata": {
      "application/vnd.databricks.v1+output": {
       "addedWidgets": {},
       "arguments": {},
       "data": "<div class=\"ansiout\"></div>",
       "datasetInfos": [],
       "metadata": {},
       "removedWidgets": [],
       "type": "html"
      }
     },
     "output_type": "display_data"
    }
   ],
   "source": [
    "def causal_estimate_plots(estimate, df, treatment_name):\n",
    "    nrows = 6\n",
    "    fig, axs = plt.subplots(nrows, 1, figsize=(8, 7*nrows))\n",
    "   \n",
    "    # Distribution of estimated effects\n",
    "    ax = axs[0]\n",
    "    ax = _distribution_of_ate(estimate, treatment_name, ax)\n",
    "    \n",
    "    # Distribution of propensity scores\n",
    "    ax = axs[1]\n",
    "    ax = _distribution_of_propensity_scores(estimate, treatment_name, ax)\n",
    "    \n",
    "    # Propensity score model metrics\n",
    "    ax = axs[2]\n",
    "    ax = _propensity_score_model_roc_curve(estimate, df, treatment_name, ax)\n",
    "    \n",
    "    ax = axs[3]\n",
    "    ax = _propensity_score_model_pr_curve(estimate, df, treatment_name, ax)\n",
    "    \n",
    "    ax = axs[4]\n",
    "    ax = _propensity_score_model_feature_importance(estimate, df, ax)\n",
    "    \n",
    "    # Strata stats\n",
    "    ax = axs[5]\n",
    "    ax = _plot_strata_stats(estimate, treatment_name, outcome_name, outcome_pc_name, ax)\n",
    "    \n",
    "    fig.subplots_adjust(hspace=.3)\n",
    "    \n",
    "    return axs, fig\n",
    "\n",
    "\n",
    "def _distribution_of_propensity_scores(estimate, treatment_name, ax):\n",
    "    ax.set_title(\"Distribution of propensity scores\")\n",
    "    ax.set_xlabel(\"Propensity score\")\n",
    "    df_ = pd.DataFrame({\"p\": estimate.propensity_scores, treatment_name:df_main_pd[treatment_name]})\n",
    "    for t in df_[treatment_name].unique():\n",
    "        sns.kdeplot(df_.loc[df_[treatment_name] == t, \"p\"], ax=ax, label=f\"{treatment_name}={t}\", clip=(0,1))\n",
    "    ax.set_xlim(0,1)\n",
    "    return ax\n",
    "\n",
    "\n",
    "def _distribution_of_ate(estimate, treatment_name, ax):\n",
    "    ax.set_title(\"Distribution of estimated ATE\")\n",
    "    ax.set_xlabel(\"ATE estimate\")\n",
    "    ax.hist(estimate.estimator._bootstrap_estimates.estimates, bins=20, density=True)\n",
    "    sns.kdeplot(estimate.estimator._bootstrap_estimates.estimates, ax=ax, color='lightblue')\n",
    "    cil, cih = estimate.get_confidence_intervals()\n",
    "    ax.axvline(estimate.value, color='slategrey')\n",
    "    ax.axvline(cil, linestyle='dashed', color='slategrey')\n",
    "    ax.axvline(cih, linestyle='dashed', color='slategrey')\n",
    "    ymin, ymax = ax.get_ylim()\n",
    "    ax.text(estimate.value, ymax, f\" mean: {estimate.value:0.3f}\", color='slategrey', va='top', size=9)\n",
    "    ax.text(cil, ymax, f\" CI-L: {cil:0.3f}\", color='slategrey', va='top', size=9)\n",
    "    ax.text(cih, ymax, f\" CI-H: {cih:0.3f}\", color='slategrey', va='top', size=9)\n",
    "    # Plot x=0 line if x=0 in view already\n",
    "    xmin, xmax = ax.get_xlim()\n",
    "    if np.sign(xmin*xmax) == -1:\n",
    "        ax.axvline(0, color='firebrick')\n",
    "    return ax\n",
    "\n",
    "\n",
    "def _propensity_score_model_roc_curve(estimate, df, treatment_name, ax):\n",
    "    from sklearn.metrics import roc_curve, roc_auc_score\n",
    "    fpr, tpr, _ = roc_curve(df[treatment_name].values*1, estimate.propensity_scores, pos_label=1)\n",
    "    roc_score = roc_auc_score(df[treatment_name].values*1, estimate.propensity_scores)\n",
    "    ax.plot(fpr, tpr, '-.')\n",
    "    ax.plot([0, 1], [0, 1], 'r--')\n",
    "    ax.text(0.8, 0.2, f\"AUC={roc_score:.3f}\", ha='center', color='slategrey')\n",
    "    ax.set_xlabel(\"FPR\")\n",
    "    ax.set_ylabel(\"TPR\")\n",
    "    ax.set_title(f\"Propensity score estimator ROC\")\n",
    "    return ax\n",
    "\n",
    "\n",
    "def _propensity_score_model_pr_curve(estimate, df, treatment_name, ax):\n",
    "    from sklearn.metrics import precision_recall_curve\n",
    "    p, r, _ = precision_recall_curve(df[treatment_name].values*1, estimate.propensity_scores, pos_label=1)\n",
    "    ax.plot(p, r, '-.')\n",
    "    ax.set_xlabel(\"Precision\")\n",
    "    ax.set_ylabel(\"Recall\")\n",
    "    ax.set_title(f\"Propensity score estimator P/R curve\")\n",
    "    return ax\n",
    "\n",
    "\n",
    "def _propensity_score_model_feature_importance(estimate, df, ax):\n",
    "    coef_ = estimate.estimator._propensity_score_model.coef_[0]\n",
    "    coef_weights = (estimate.estimator._observed_common_causes.mean().T / estimate.estimator._observed_common_causes.mean().sum()).values\n",
    "    fnames = estimate.estimator._observed_common_causes.columns\n",
    "    ax = pd.DataFrame({'coef_weighted':coef_/coef_weights}, index=fnames).sort_values('coef_weighted')\\\n",
    "        .plot(kind='barh', legend=False, ax=ax)\n",
    "    ax.set_title('Propensity score estimator feature importance')\n",
    "    ax.set_xlabel('Feature importance')\n",
    "    ax.set_ylabel('Propensity model feature')\n",
    "    return ax\n",
    "\n",
    "\n",
    "def _plot_strata_stats(estimate, treatment_name, outcome_name, outcome_pc_name, ax):\n",
    "    \n",
    "    def _strata_counts(df, treatment_name, outcome_name, outcome_pc_name):\n",
    "        outcome_name_bin, outcome_name_bin_not = _make_outcome_name_bin(outcome_name, outcome_pc_name)\n",
    "\n",
    "        df_strata_counts_1 = df.groupby(['strata', treatment_name])[f\"{outcome_name}_{outcome_pc_name}\"].count().unstack(1).reset_index()\n",
    "        df_strata_counts_1.columns = ['stratum'] + [f\"{o}\" for o in df[treatment_name].unique()]\n",
    "        df_strata_counts_2 = df_strata_counts_1.set_index('stratum').stack().reset_index()\n",
    "        df_strata_counts_2.columns = ['stratum', treatment_name, 'count']\n",
    "        df_strata_counts_2['stratum'] = df_strata_counts_2['stratum'].astype(int)\n",
    "\n",
    "        return df_strata_counts_2\n",
    "\n",
    "\n",
    "    def _effect_per_strata(df, treatment_name):\n",
    "        df_strata_effect_1 = df_.groupby('strata').agg({\n",
    "                        treatment_name: ['sum'],\n",
    "                        'dbar': ['sum'],\n",
    "                        'd_y': ['sum'],\n",
    "                        'dbar_y': ['sum']\n",
    "                    }).reset_index().rename(columns={'strata':'stratum'}).set_index('stratum')\n",
    "        df_strata_effect_1.columns = [\"_\".join(x) for x in df_strata_effect_1.columns.ravel()]\n",
    "        treatment_sum_name = treatment_name + \"_sum\"\n",
    "        control_sum_name = \"dbar_sum\"\n",
    "        df_strata_effect_1['d_y_mean'] = df_strata_effect_1['d_y_sum'] / df_strata_effect_1[treatment_sum_name]\n",
    "        df_strata_effect_1['dbar_y_mean'] = df_strata_effect_1['dbar_y_sum'] / df_strata_effect_1['dbar_sum']\n",
    "        df_strata_effect_1['effect'] = df_strata_effect_1['d_y_mean'] - df_strata_effect_1['dbar_y_mean']\n",
    "        df_strata_effect_1 = df_strata_effect_1['effect'].reset_index()\n",
    "\n",
    "        return df_strata_effect_1\n",
    "    \n",
    "    df_ = estimate.estimator._data\n",
    "    df_strata_counts = _strata_counts(df_, treatment_name, outcome_name, outcome_pc_name)\n",
    "    df_strata_effect = _effect_per_strata(df_, treatment_name)\n",
    "    \n",
    "    sns.barplot(x='stratum', y='count', data=df_strata_counts, hue=treatment_name, ax=ax)\n",
    "    ax_secondary = ax.twinx()\n",
    "    ax_secondary.set_ylabel('effect')\n",
    "    df_strata_effect['effect'].plot(ax=ax_secondary, grid=False, linewidth=2, color='gold', marker='*', label='effect')\n",
    "    l_scale = lambda x, factor: x*(1+np.sign(x)*factor)\n",
    "    ax_secondary.set_ylim(None, l_scale(ax_secondary.get_ylim()[1], .3))\n",
    "    \n",
    "    ax.set_title('Propensity score stratification - strata counts and effects')"
   ]
  },
  {
   "cell_type": "code",
   "execution_count": null,
   "metadata": {
    "application/vnd.databricks.v1+cell": {
     "inputWidgets": {},
     "nuid": "e5b59310-1d71-4db6-a657-ee71058bed8c",
     "showTitle": false,
     "title": ""
    }
   },
   "outputs": [
    {
     "data": {
      "text/html": [
       "<style scoped>\n",
       "  .ansiout {\n",
       "    display: block;\n",
       "    unicode-bidi: embed;\n",
       "    white-space: pre-wrap;\n",
       "    word-wrap: break-word;\n",
       "    word-break: break-all;\n",
       "    font-family: \"Source Code Pro\", \"Menlo\", monospace;;\n",
       "    font-size: 13px;\n",
       "    color: #555;\n",
       "    margin-left: 4px;\n",
       "    line-height: 19px;\n",
       "  }\n",
       "</style>\n",
       "<div class=\"ansiout\">Out[16]: </div>"
      ]
     },
     "metadata": {
      "application/vnd.databricks.v1+output": {
       "addedWidgets": {},
       "arguments": {},
       "data": "<div class=\"ansiout\">Out[16]: </div>",
       "datasetInfos": [],
       "metadata": {},
       "removedWidgets": [],
       "type": "html"
      }
     },
     "output_type": "display_data"
    },
    {
     "data": {
      "image/png": "[encoded data removed]"
     },
     "metadata": {
      "application/vnd.databricks.v1+output": {
       "addedWidgets": {},
       "arguments": {},
       "data": "/plots/93b84982-d6c9-4646-99a1-418dd342b1bb.png",
       "datasetInfos": [],
       "metadata": {},
       "removedWidgets": [],
       "type": "image"
      }
     },
     "output_type": "display_data"
    },
    {
     "data": {
      "text/html": [
       "<style scoped>\n",
       "  .ansiout {\n",
       "    display: block;\n",
       "    unicode-bidi: embed;\n",
       "    white-space: pre-wrap;\n",
       "    word-wrap: break-word;\n",
       "    word-break: break-all;\n",
       "    font-family: \"Source Code Pro\", \"Menlo\", monospace;;\n",
       "    font-size: 13px;\n",
       "    color: #555;\n",
       "    margin-left: 4px;\n",
       "    line-height: 19px;\n",
       "  }\n",
       "</style>\n",
       "<div class=\"ansiout\">(array([&lt;matplotlib.axes._subplots.AxesSubplot object at 0x7febac170760&gt;,\n",
       "        &lt;matplotlib.axes._subplots.AxesSubplot object at 0x7febace44d00&gt;,\n",
       "        &lt;matplotlib.axes._subplots.AxesSubplot object at 0x7febac0d7130&gt;,\n",
       "        &lt;matplotlib.axes._subplots.AxesSubplot object at 0x7febac087790&gt;,\n",
       "        &lt;matplotlib.axes._subplots.AxesSubplot object at 0x7febac1f2190&gt;,\n",
       "        &lt;matplotlib.axes._subplots.AxesSubplot object at 0x7febac144100&gt;],\n",
       "       dtype=object),\n",
       " &lt;Figure size 576x3024 with 7 Axes&gt;)</div>"
      ]
     },
     "metadata": {
      "application/vnd.databricks.v1+output": {
       "addedWidgets": {},
       "arguments": {},
       "data": "<div class=\"ansiout\">(array([&lt;matplotlib.axes._subplots.AxesSubplot object at 0x7febac170760&gt;,\n        &lt;matplotlib.axes._subplots.AxesSubplot object at 0x7febace44d00&gt;,\n        &lt;matplotlib.axes._subplots.AxesSubplot object at 0x7febac0d7130&gt;,\n        &lt;matplotlib.axes._subplots.AxesSubplot object at 0x7febac087790&gt;,\n        &lt;matplotlib.axes._subplots.AxesSubplot object at 0x7febac1f2190&gt;,\n        &lt;matplotlib.axes._subplots.AxesSubplot object at 0x7febac144100&gt;],\n       dtype=object),\n &lt;Figure size 576x3024 with 7 Axes&gt;)</div>",
       "datasetInfos": [],
       "metadata": {},
       "removedWidgets": [],
       "type": "html"
      }
     },
     "output_type": "display_data"
    }
   ],
   "source": [
    "causal_estimate_plots(estimate, df_main_pd, treatment_name)"
   ]
  },
  {
   "cell_type": "markdown",
   "metadata": {
    "application/vnd.databricks.v1+cell": {
     "inputWidgets": {},
     "nuid": "020ff327-5fe5-480c-80d3-c83eaca0046c",
     "showTitle": false,
     "title": ""
    }
   },
   "source": [
    "#### Refutation\n",
    "\n",
    "Validation of causal model assumptions. If any of the refutation methods does not pass, consider reviewing the causal model.\n",
    "\n",
    "**Warning:** this could run for a long time."
   ]
  },
  {
   "cell_type": "code",
   "execution_count": null,
   "metadata": {
    "application/vnd.databricks.v1+cell": {
     "inputWidgets": {},
     "nuid": "1d57a582-9e87-4e6d-8aaf-c963fb41e095",
     "showTitle": false,
     "title": ""
    }
   },
   "outputs": [
    {
     "data": {
      "text/html": [
       "<style scoped>\n",
       "  .ansiout {\n",
       "    display: block;\n",
       "    unicode-bidi: embed;\n",
       "    white-space: pre-wrap;\n",
       "    word-wrap: break-word;\n",
       "    word-break: break-all;\n",
       "    font-family: \"Source Code Pro\", \"Menlo\", monospace;;\n",
       "    font-size: 13px;\n",
       "    color: #555;\n",
       "    margin-left: 4px;\n",
       "    line-height: 19px;\n",
       "  }\n",
       "</style>\n",
       "<div class=\"ansiout\">Mon Jun  7 11:03:06 2021 - Running random common cause refuter.\n",
       "Refute: Add a Random Common Cause\n",
       "Estimated effect:0.20899836438052846\n",
       "New effect:0.2089982006057741\n",
       "Ideally we want `Estimated effect` to be close to `New effect` (stat. test not available).\n",
       "\n",
       "Mon Jun  7 11:03:11 2021 - Running placebo treatment refuter.\n",
       "Refute: Use a Placebo Treatment\n",
       "Estimated effect:0.20899836438052846\n",
       "New effect:-0.0009437063888565019\n",
       "p value:0.48860694995260645\n",
       "&#39;New effect&#39; is not significantly different from 0\n",
       "--&gt; OK\n",
       "\n",
       "Mon Jun  7 11:03:56 2021 - Running data subset refuter.\n",
       "Method requires strata with number of data points per treatment &gt; clipping_threshold (=10). No such strata exists. Consider decreasing &#39;num_strata&#39; or &#39;clipping_threshold&#39; parameters.\n",
       "Out[14]: {&#39;random_common_cause&#39;: &lt;dowhy.causal_refuter.CausalRefutation at 0x7febb450a430&gt;,\n",
       " &#39;placebo_treatment_refuter&#39;: &lt;dowhy.causal_refuter.CausalRefutation at 0x7febac180d60&gt;,\n",
       " &#39;data_subset_refuter&#39;: ValueError(&#34;Method requires strata with number of data points per treatment &gt; clipping_threshold (=10). No such strata exists. Consider decreasing &#39;num_strata&#39; or &#39;clipping_threshold&#39; parameters.&#34;)}</div>"
      ]
     },
     "metadata": {
      "application/vnd.databricks.v1+output": {
       "addedWidgets": {},
       "arguments": {},
       "data": "<div class=\"ansiout\">Mon Jun  7 11:03:06 2021 - Running random common cause refuter.\nRefute: Add a Random Common Cause\nEstimated effect:0.20899836438052846\nNew effect:0.2089982006057741\nIdeally we want `Estimated effect` to be close to `New effect` (stat. test not available).\n\nMon Jun  7 11:03:11 2021 - Running placebo treatment refuter.\nRefute: Use a Placebo Treatment\nEstimated effect:0.20899836438052846\nNew effect:-0.0009437063888565019\np value:0.48860694995260645\n&#39;New effect&#39; is not significantly different from 0\n--&gt; OK\n\nMon Jun  7 11:03:56 2021 - Running data subset refuter.\nMethod requires strata with number of data points per treatment &gt; clipping_threshold (=10). No such strata exists. Consider decreasing &#39;num_strata&#39; or &#39;clipping_threshold&#39; parameters.\nOut[14]: {&#39;random_common_cause&#39;: &lt;dowhy.causal_refuter.CausalRefutation at 0x7febb450a430&gt;,\n &#39;placebo_treatment_refuter&#39;: &lt;dowhy.causal_refuter.CausalRefutation at 0x7febac180d60&gt;,\n &#39;data_subset_refuter&#39;: ValueError(&#34;Method requires strata with number of data points per treatment &gt; clipping_threshold (=10). No such strata exists. Consider decreasing &#39;num_strata&#39; or &#39;clipping_threshold&#39; parameters.&#34;)}</div>",
       "datasetInfos": [],
       "metadata": {},
       "removedWidgets": [],
       "type": "html"
      }
     },
     "output_type": "display_data"
    }
   ],
   "source": [
    "def refutation(model, identified_estimand, estimate, methods=['random_common_cause', 'placebo_treatment_refuter', 'data_subset_refuter']):\n",
    "    from copy import deepcopy\n",
    "    estimate_ = deepcopy(estimate)\n",
    "    estimate_.estimator._confidence_intervals = None\n",
    "    \n",
    "    results = []\n",
    "    # random common cause\n",
    "    if 'random_common_cause' in methods:\n",
    "        print(f\"{time.asctime()} - Running random common cause refuter.\")\n",
    "        try:\n",
    "            refute_results_0 = model.refute_estimate(identified_estimand, \n",
    "                                                     estimate_, \n",
    "                                                     method_name=\"random_common_cause\", \n",
    "                                                     confounders_effect_on_treatment=\"binary_flip\", \n",
    "                                                     confounders_effect_on_outcome=\"binary_flip\")\n",
    "            print(refute_results_0.__str__() + 'Ideally we want `Estimated effect` to be close to `New effect` (stat. test not available).\\n')\n",
    "        except Exception as e:\n",
    "            refute_results_0 = e\n",
    "            print(e)\n",
    "        results.append(refute_results_0)\n",
    "    # placebo treatment refuter\n",
    "    if 'placebo_treatment_refuter' in methods:\n",
    "        print(f\"{time.asctime()} - Running placebo treatment refuter.\")\n",
    "        try:\n",
    "            refute_results_1 = model.refute_estimate(identified_estimand, estimate_, method_name=\"placebo_treatment_refuter\", placebo_type=\"Random Data\", num_simulations=10)\n",
    "            sig_ = refute_results_1.refutation_result['p_value'] <= 0.05\n",
    "            sig_summary_ = (\n",
    "                f\"'New effect' is significantly different from 0\\n--> CHECK\\n\" if sig_\n",
    "                else f\"'New effect' is not significantly different from 0\\n--> OK\\n\"\n",
    "            )\n",
    "            print(refute_results_1.__str__() + sig_summary_)\n",
    "        except Exception as e:\n",
    "            refute_results_1 = e\n",
    "            print(e)\n",
    "        results.append(refute_results_1)\n",
    "    # data subset refuter\n",
    "    if 'data_subset_refuter' in methods:\n",
    "        print(f\"{time.asctime()} - Running data subset refuter.\")\n",
    "        try:\n",
    "            refute_results_2 = model.refute_estimate(identified_estimand, estimate_, method_name=\"data_subset_refuter\", subset_fraction=0.1, num_simulations=10, random_state=seed)\n",
    "            sig_ = refute_results_2.refutation_result['p_value'] <= 0.05\n",
    "            sig_summary_ = (\n",
    "                f\"'New effect' is significantly different from `Estimated effect`\\n--> CHECK\\n\" if sig_\n",
    "                else f\"'New effect' is not significantly different from `Estimated effect`\\n--> OK\\n\"\n",
    "            )\n",
    "            print(refute_results_2.__str__() + sig_summary_)\n",
    "        except Exception as e:\n",
    "            refute_results_2 = e\n",
    "            print(e)\n",
    "        results.append(refute_results_2)\n",
    "    return dict(zip(methods, results))\n",
    "\n",
    "\n",
    "refute_results = refutation(model, identified_estimand, estimate)\n",
    "\n",
    "refute_results"
   ]
  },
  {
   "cell_type": "code",
   "execution_count": null,
   "metadata": {
    "application/vnd.databricks.v1+cell": {
     "inputWidgets": {},
     "nuid": "3fc00ce7-7a63-405b-9d6e-09c7b5a31db3",
     "showTitle": false,
     "title": ""
    }
   },
   "outputs": [
    {
     "data": {
      "text/plain": [
       "0"
      ]
     },
     "metadata": {
      "application/vnd.databricks.v1+output": {
       "arguments": {},
       "data": "0",
       "metadata": {},
       "type": "exit"
      }
     },
     "output_type": "display_data"
    }
   ],
   "source": [
    "dbutils.notebook.exit(0)"
   ]
  },
  {
   "cell_type": "markdown",
   "metadata": {
    "application/vnd.databricks.v1+cell": {
     "inputWidgets": {},
     "nuid": "f4f46cb9-6bdd-4f11-a51c-e05c69f5be8a",
     "showTitle": false,
     "title": ""
    }
   },
   "source": [
    "***"
   ]
  },
  {
   "cell_type": "markdown",
   "metadata": {
    "application/vnd.databricks.v1+cell": {
     "inputWidgets": {},
     "nuid": "ac6713a1-9965-4659-82bc-ebb0b8646afa",
     "showTitle": false,
     "title": ""
    }
   },
   "source": [
    "Creating bogus data for testing"
   ]
  },
  {
   "cell_type": "code",
   "execution_count": null,
   "metadata": {
    "application/vnd.databricks.v1+cell": {
     "inputWidgets": {},
     "nuid": "74729212-edc9-4727-b800-005a8d13c32c",
     "showTitle": false,
     "title": ""
    }
   },
   "outputs": [],
   "source": [
    "fname = \"s3://.../bogus-causality-dataset-00\"\n",
    "\n",
    "df_ = pd.DataFrame({\n",
    "    \"used_recommender\":np.random.rand(1000) < .33,\n",
    "    \"team\": np.random.choice([\"greens\", \"blues\"], 1000),\n",
    "    \"country\": np.random.choice((\"Andorra\", \"Palau\", \"New Zealand\"), 1000),\n",
    "    \"favourite_animal\": np.random.choice((\"koala\", \"spider\", \"bee\"), 1000)\n",
    "})\n",
    "\n",
    "spark.createDataFrame(df_).write.mode(\"overwrite\").parquet(fname)"
   ]
  },
  {
   "cell_type": "code",
   "execution_count": null,
   "metadata": {
    "application/vnd.databricks.v1+cell": {
     "inputWidgets": {},
     "nuid": "b8bce24d-8561-435c-ab17-36d19a0c6245",
     "showTitle": false,
     "title": ""
    }
   },
   "outputs": [],
   "source": [
    "fname = \"s3://.../bogus-causality-dataset-01\"\n",
    "\n",
    "df_ = pd.DataFrame({\n",
    "    \"used_recommender\":np.random.rand(1000) < .33,\n",
    "    \"team\": np.random.choice([\"greens\", \"blues\"], 1000),\n",
    "    \"country\": np.random.choice((\"Andorra\", \"Palau\", \"New Zealand\"), 1000),\n",
    "    \"favourite_animal\": np.random.choice((\"koala\", \"spider\", \"bee\"), 1000)\n",
    "})\n",
    "df_[\"team\"] = df_[\"used_recommender\"].apply(lambda x: \"blues\" if np.random.rand() < 0.4 + x*0.2 else \"greens\", 1)\n",
    "\n",
    "spark.createDataFrame(df_).write.mode(\"overwrite\").parquet(fname)\n",
    "\n",
    "model_ = \"\"\"\n",
    "digraph {\n",
    "U;\n",
    "used_recommender -> team_blues;\n",
    "U -> used_recommender;\n",
    "U -> team_blues;\n",
    "country -> used_recommender;\n",
    "country -> team_blues;\n",
    "country -> favourite_animal;\n",
    "}\n",
    "\"\"\""
   ]
  },
  {
   "cell_type": "code",
   "execution_count": null,
   "metadata": {
    "application/vnd.databricks.v1+cell": {
     "inputWidgets": {},
     "nuid": "c932d8d5-2d3e-4456-bffb-d87e8fb99994",
     "showTitle": false,
     "title": ""
    }
   },
   "outputs": [],
   "source": [
    "fname = \"s3://.../bogus-causality-dataset-02\"\n",
    "\n",
    "df_ = pd.DataFrame({\n",
    "    \"used_recommender\":np.random.rand(1000) < .33,\n",
    "    \"team\": np.random.choice([\"greens\", \"blues\"], 1000),\n",
    "    \"country\": np.random.choice((\"Andorra\", \"Palau\", \"New Zealand\"), 1000),\n",
    "    \"favourite_animal\": np.random.choice((\"koala\", \"spider\", \"bee\"), 1000)\n",
    "})\n",
    "df_[\"team\"] = df_[\"used_recommender\"].apply(lambda x: \"blues\" if np.random.rand() < 0.48 + x*0.04 else \"greens\", 1)\n",
    "\n",
    "spark.createDataFrame(df_).write.mode(\"overwrite\").parquet(fname)\n",
    "\n",
    "model_ = \"\"\"\n",
    "digraph {\n",
    "U;\n",
    "used_recommender -> team_blues;\n",
    "U -> used_recommender;\n",
    "U -> team_blues;\n",
    "country -> used_recommender;\n",
    "country -> team_blues;\n",
    "country -> favourite_animal;\n",
    "}\n",
    "\"\"\""
   ]
  },
  {
   "cell_type": "code",
   "execution_count": null,
   "metadata": {
    "application/vnd.databricks.v1+cell": {
     "inputWidgets": {},
     "nuid": "b5e15c92-ffc2-4a74-b9e0-ddf4fff0a96e",
     "showTitle": false,
     "title": ""
    }
   },
   "outputs": [],
   "source": [
    "fname = \"s3://.../bogus-causality-dataset-03\"\n",
    "\n",
    "df_ = pd.DataFrame({\n",
    "    \"used_recommender\":np.random.rand(1000) < .33,\n",
    "    \"team\": np.random.choice([\"greens\", \"blues\"], 1000),\n",
    "    \"country\": np.random.choice((\"Andorra\", \"Palau\", \"New Zealand\"), 1000),\n",
    "    \"favourite_animal\": np.random.choice((\"koala\", \"spider\", \"bee\"), 1000)\n",
    "})\n",
    "df_[\"team\"] = df_[\"used_recommender\"].apply(lambda x: \"blues\" if np.random.rand() < 0.55 - x*0.1 else \"greens\", 1)\n",
    "\n",
    "spark.createDataFrame(df_).write.mode(\"overwrite\").parquet(fname)\n",
    "\n",
    "model_ = \"\"\"\n",
    "digraph {\n",
    "U;\n",
    "used_recommender -> team_blues;\n",
    "U -> used_recommender;\n",
    "U -> team_blues;\n",
    "country -> used_recommender;\n",
    "country -> team_blues;\n",
    "country -> favourite_animal;\n",
    "}\n",
    "\"\"\""
   ]
  }
 ],
 "metadata": {
  "application/vnd.databricks.v1+notebook": {
   "dashboards": [],
   "language": "python",
   "notebookMetadata": {
    "pythonIndentUnit": 4
   },
   "notebookName": "bias_causality_template-example",
   "notebookOrigID": 3417134,
   "widgets": {
    "causal_model": {
     "currentValue": "",
     "nuid": "a4b53e80-7e58-46e1-b06e-532535bc78a0",
     "widgetInfo": {
      "defaultValue": "",
      "label": "Causal model (dot or dagitty format)",
      "name": "causal_model",
      "options": {
       "validationRegex": null,
       "widgetType": "text"
      },
      "widgetType": "text"
     }
    },
    "causal_model_filename": {
     "currentValue": "s3://com-elsevier-recs-dev-experiments/SDPR-5187/bogus-causality-model-00.dot",
     "nuid": "ff6d3b75-f79f-4438-9d97-425fe18eebb6",
     "widgetInfo": {
      "defaultValue": "",
      "label": "Causal model (filename)",
      "name": "causal_model_filename",
      "options": {
       "validationRegex": null,
       "widgetType": "text"
      },
      "widgetType": "text"
     }
    },
    "data_filename": {
     "currentValue": "s3://com-elsevier-recs-dev-experiments/SDPR-5187/bogus-causality-dataset-01/",
     "nuid": "adcccf34-5391-4f0e-9f6f-2dfbe40b2196",
     "widgetInfo": {
      "defaultValue": "",
      "label": "Path to data (S3)",
      "name": "data_filename",
      "options": {
       "validationRegex": null,
       "widgetType": "text"
      },
      "widgetType": "text"
     }
    },
    "model_params": {
     "currentValue": "{\"num_strata\":10, \"clipping_threshold\":10}",
     "nuid": "6a25989f-88a2-4870-a632-09961a9b2107",
     "widgetInfo": {
      "defaultValue": "{\"num_strata\":null, \"clipping_threshold\":null}",
      "label": null,
      "name": "model_params",
      "options": {
       "validationRegex": null,
       "widgetType": "text"
      },
      "widgetType": "text"
     }
    },
    "outcome_name": {
     "currentValue": "team",
     "nuid": "45f5e2d9-d322-411b-a77b-bc86cc963039",
     "widgetInfo": {
      "defaultValue": "Y",
      "label": "Outcome name",
      "name": "outcome_name",
      "options": {
       "validationRegex": null,
       "widgetType": "text"
      },
      "widgetType": "text"
     }
    },
    "outcome_pc_name": {
     "currentValue": "blues",
     "nuid": "7c6d10b3-36a1-4d6a-85e7-020763502fbd",
     "widgetInfo": {
      "defaultValue": "",
      "label": "Outcome protected characteristic name",
      "name": "outcome_pc_name",
      "options": {
       "validationRegex": null,
       "widgetType": "text"
      },
      "widgetType": "text"
     }
    },
    "seed": {
     "currentValue": "123",
     "nuid": "79c8c90d-c7b1-41d9-8751-a33d208080fe",
     "widgetInfo": {
      "defaultValue": "123",
      "label": "Random seed",
      "name": "seed",
      "options": {
       "validationRegex": null,
       "widgetType": "text"
      },
      "widgetType": "text"
     }
    },
    "treatment_name": {
     "currentValue": "used_recommender",
     "nuid": "c8cd33d0-38aa-40fa-a2ad-65a1fc298735",
     "widgetInfo": {
      "defaultValue": "T",
      "label": "Treatment name",
      "name": "treatment_name",
      "options": {
       "validationRegex": null,
       "widgetType": "text"
      },
      "widgetType": "text"
     }
    }
   }
  },
  "kernelspec": {
   "display_name": "Python 3",
   "language": "python",
   "name": "python3"
  },
  "language_info": {
   "codemirror_mode": {
    "name": "ipython",
    "version": 3
   },
   "file_extension": ".py",
   "mimetype": "text/x-python",
   "name": "python",
   "nbconvert_exporter": "python",
   "pygments_lexer": "ipython3",
   "version": "3.7.7"
  }
 },
 "nbformat": 4,
 "nbformat_minor": 4
}
